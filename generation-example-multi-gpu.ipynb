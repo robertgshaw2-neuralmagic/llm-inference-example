{
 "cells": [
  {
   "cell_type": "markdown",
   "id": "6f2a0a84-7d89-4515-8d3e-d23cbd99dc6b",
   "metadata": {},
   "source": [
    "# **Simple Generation Example**"
   ]
  },
  {
   "cell_type": "markdown",
   "id": "29890856-92cc-45c1-9a4c-0a776dc7c923",
   "metadata": {},
   "source": [
    "### **Login To CLI**\n",
    "- Make sure you have accepted the llama licensing agreement"
   ]
  },
  {
   "cell_type": "code",
   "execution_count": 1,
   "id": "70021f5b-7af7-4222-af77-17d4f84fef97",
   "metadata": {},
   "outputs": [
    {
     "name": "stdout",
     "output_type": "stream",
     "text": [
      "Token will not been saved to git credential helper. Pass `add_to_git_credential=True` if you want to set the git credential as well.\n",
      "Token is valid (permission: read).\n",
      "Your token has been saved to /home/rshaw/.cache/huggingface/token\n",
      "Login successful\n"
     ]
    }
   ],
   "source": [
    "!huggingface-cli login --token TOKEN"
   ]
  },
  {
   "cell_type": "markdown",
   "id": "2e87aaef-29fe-4ee4-bc59-b96911d34b4b",
   "metadata": {},
   "source": [
    "### **Load Model**\n",
    "\n",
    "- Load model from hugging face hub"
   ]
  },
  {
   "cell_type": "code",
   "execution_count": 1,
   "id": "93a082ca-8339-4f86-83b9-31aed220eb2a",
   "metadata": {},
   "outputs": [],
   "source": [
    "from transformers import LlamaForCausalLM, AutoTokenizer\n",
    "import torch\n",
    "\n",
    "MODEL_ID_0 = \"meta-llama/Llama-2-7b-hf\"\n",
    "MODEL_ID_1 = \"revellabs/llama2-reinvent-base-v1\""
   ]
  },
  {
   "cell_type": "code",
   "execution_count": 2,
   "id": "83c37caa-b412-473a-b6a3-980d7f6be41d",
   "metadata": {},
   "outputs": [
    {
     "data": {
      "application/vnd.jupyter.widget-view+json": {
       "model_id": "30075495757243cbb2b3930af0057ef4",
       "version_major": 2,
       "version_minor": 0
      },
      "text/plain": [
       "Loading checkpoint shards:   0%|          | 0/2 [00:00<?, ?it/s]"
      ]
     },
     "metadata": {},
     "output_type": "display_data"
    },
    {
     "data": {
      "application/vnd.jupyter.widget-view+json": {
       "model_id": "ce3b5833b0c04542a35facd4ce781e83",
       "version_major": 2,
       "version_minor": 0
      },
      "text/plain": [
       "Loading checkpoint shards:   0%|          | 0/2 [00:00<?, ?it/s]"
      ]
     },
     "metadata": {},
     "output_type": "display_data"
    },
    {
     "name": "stdout",
     "output_type": "stream",
     "text": [
      "cuda:0\n",
      "cuda:1\n"
     ]
    }
   ],
   "source": [
    "model_0 = LlamaForCausalLM.from_pretrained(MODEL_ID_0, torch_dtype=torch.bfloat16) # switch to float16 if not ampere\n",
    "model_1 = LlamaForCausalLM.from_pretrained(MODEL_ID_1, torch_dtype=torch.bfloat16) # switch to float16 if not ampere\n",
    "\n",
    "tokenizer_0 = AutoTokenizer.from_pretrained(MODEL_ID_0)\n",
    "tokenizer_1 = AutoTokenizer.from_pretrained(MODEL_ID_0)\n",
    "\n",
    "if torch.cuda.is_available():\n",
    "    model_0.to(\"cuda:0\")\n",
    "    model_1.to(\"cuda:1\")\n",
    "\n",
    "print(model_0.device)\n",
    "print(model_1.device)"
   ]
  },
  {
   "cell_type": "markdown",
   "id": "a9e256a7-ab79-4563-bc6b-d791562af630",
   "metadata": {},
   "source": [
    "### **Generate Text**\n",
    "\n",
    "- See [here for more details](https://huggingface.co/docs/transformers/llm_tutorial)\n",
    "- See [here for even more details](https://huggingface.co/docs/transformers/generation_strategies)"
   ]
  },
  {
   "cell_type": "code",
   "execution_count": 4,
   "id": "e9ec0848-ff8c-448a-a02a-7dbf908af693",
   "metadata": {},
   "outputs": [
    {
     "name": "stdout",
     "output_type": "stream",
     "text": [
      "What is AWS re:invent?\n",
      "AWS re:Invent is the largest global customer and partner conference focused on the cloud.\n",
      "AWS re:Invent is an annual event hosted by Amazon Web Services (AWS). It is the largest global customer and partner conference focused on the cloud. The conference is held in Las Vegas and typically runs from mid-November to early December.\n",
      "AWS re:Invent 2022 will be held from November 28 to December 2, \n",
      "What is AWS re:invent? AWS re:invent is a learning conference hosted by Amazon Web Services (AWS) for the global cloud computing community. It is an opportunity for the cloud community to learn, connect, and be inspired by the latest innovations in cloud technologies, services, and best practices. AWS re:invent is a free event, and you can register here. What is AWS re:invent 2022? AWS re:invent 2022 is a hybrid\n"
     ]
    }
   ],
   "source": [
    "def generate(prompt, model, tokenizer):\n",
    "    \n",
    "    tokenizer.pad_token_id = tokenizer.eos_token_id\n",
    "    inputs = tokenizer(prompt, return_tensors=\"pt\").to(model.device)\n",
    "\n",
    "    model.eval()\n",
    "    with torch.no_grad():\n",
    "        generated_ids = model.generate(\n",
    "            **inputs, \n",
    "            max_new_tokens=100, \n",
    "        )\n",
    "    \n",
    "    print(tokenizer.batch_decode(generated_ids, skip_special_tokens=True)[0])"
   ]
  },
  {
   "cell_type": "code",
   "execution_count": 5,
   "id": "83b79fae",
   "metadata": {},
   "outputs": [
    {
     "name": "stdout",
     "output_type": "stream",
     "text": [
      "What is AWS re:invent?\n",
      "What is AWS re:invent? AWS re:invent is a conference hosted by Amazon Web Services (AWS) that brings together technology leaders, developers, and IT professionals from around the world to learn about the latest innovations in cloud computing and to connect with peers and experts in the field.\n",
      "What is AWS re:invent? AWS re:invent is a conference hosted by Amazon Web Services (AWS) that brings together technology leaders, developers, and\n"
     ]
    }
   ],
   "source": [
    "generate(\"What is AWS re:invent?\", model_0, tokenizer_0)"
   ]
  },
  {
   "cell_type": "code",
   "execution_count": 6,
   "id": "099e5d0c",
   "metadata": {},
   "outputs": [
    {
     "name": "stdout",
     "output_type": "stream",
     "text": [
      "What is AWS re:invent? AWS re:invent is a learning conference hosted by Amazon Web Services (AWS) for the global cloud computing community. It is an opportunity for the cloud community to learn, connect, and be inspired by the latest innovations in cloud technologies, services, and best practices. AWS re:invent is a free event, and you can register here. What is AWS re:invent 2022? AWS re:invent 2022 is a hybrid\n"
     ]
    }
   ],
   "source": [
    "generate(\"What is AWS re:invent?\", model_1, tokenizer_1)"
   ]
  }
 ],
 "metadata": {
  "kernelspec": {
   "display_name": "Python 3 (ipykernel)",
   "language": "python",
   "name": "python3"
  },
  "language_info": {
   "codemirror_mode": {
    "name": "ipython",
    "version": 3
   },
   "file_extension": ".py",
   "mimetype": "text/x-python",
   "name": "python",
   "nbconvert_exporter": "python",
   "pygments_lexer": "ipython3",
   "version": "3.10.12"
  }
 },
 "nbformat": 4,
 "nbformat_minor": 5
}
