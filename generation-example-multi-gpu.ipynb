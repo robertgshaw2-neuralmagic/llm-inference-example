{
 "cells": [
  {
   "cell_type": "markdown",
   "id": "6f2a0a84-7d89-4515-8d3e-d23cbd99dc6b",
   "metadata": {},
   "source": [
    "# **Simple Generation Example**"
   ]
  },
  {
   "cell_type": "markdown",
   "id": "29890856-92cc-45c1-9a4c-0a776dc7c923",
   "metadata": {},
   "source": [
    "### **Login To CLI**\n",
    "- Make sure you have accepted the llama licensing agreement"
   ]
  },
  {
   "cell_type": "code",
   "execution_count": 1,
   "id": "70021f5b-7af7-4222-af77-17d4f84fef97",
   "metadata": {},
   "outputs": [
    {
     "name": "stdout",
     "output_type": "stream",
     "text": [
      "Token will not been saved to git credential helper. Pass `add_to_git_credential=True` if you want to set the git credential as well.\n",
      "Token is valid (permission: read).\n",
      "Your token has been saved to /home/rshaw/.cache/huggingface/token\n",
      "Login successful\n"
     ]
    }
   ],
   "source": [
    "!huggingface-cli login --token TOKEN"
   ]
  },
  {
   "cell_type": "markdown",
   "id": "2e87aaef-29fe-4ee4-bc59-b96911d34b4b",
   "metadata": {},
   "source": [
    "### **Load Model**\n",
    "\n",
    "- Load model from hugging face hub"
   ]
  },
  {
   "cell_type": "code",
   "execution_count": 2,
   "id": "93a082ca-8339-4f86-83b9-31aed220eb2a",
   "metadata": {},
   "outputs": [],
   "source": [
    "from transformers import LlamaForCausalLM, AutoTokenizer\n",
    "import torch\n",
    "\n",
    "MODEL_ID = \"meta-llama/Llama-2-7b-hf\""
   ]
  },
  {
   "cell_type": "code",
   "execution_count": 3,
   "id": "83c37caa-b412-473a-b6a3-980d7f6be41d",
   "metadata": {},
   "outputs": [
    {
     "data": {
      "application/vnd.jupyter.widget-view+json": {
       "model_id": "b6497a21446d438085b317895a333711",
       "version_major": 2,
       "version_minor": 0
      },
      "text/plain": [
       "Downloading shards:   0%|          | 0/2 [00:00<?, ?it/s]"
      ]
     },
     "metadata": {},
     "output_type": "display_data"
    },
    {
     "data": {
      "application/vnd.jupyter.widget-view+json": {
       "model_id": "5f225c9017b445699b85a79004a9faee",
       "version_major": 2,
       "version_minor": 0
      },
      "text/plain": [
       "Downloading (…)of-00002.safetensors:   0%|          | 0.00/9.98G [00:00<?, ?B/s]"
      ]
     },
     "metadata": {},
     "output_type": "display_data"
    },
    {
     "data": {
      "application/vnd.jupyter.widget-view+json": {
       "model_id": "30b378769c79405396a84bcfc5cd435a",
       "version_major": 2,
       "version_minor": 0
      },
      "text/plain": [
       "Downloading (…)of-00002.safetensors:   0%|          | 0.00/3.50G [00:00<?, ?B/s]"
      ]
     },
     "metadata": {},
     "output_type": "display_data"
    },
    {
     "data": {
      "application/vnd.jupyter.widget-view+json": {
       "model_id": "3edf8161b96845299049f91c1220cfa7",
       "version_major": 2,
       "version_minor": 0
      },
      "text/plain": [
       "Loading checkpoint shards:   0%|          | 0/2 [00:00<?, ?it/s]"
      ]
     },
     "metadata": {},
     "output_type": "display_data"
    },
    {
     "data": {
      "application/vnd.jupyter.widget-view+json": {
       "model_id": "daf0a6fc30f146f8b07a0ace18f8bd28",
       "version_major": 2,
       "version_minor": 0
      },
      "text/plain": [
       "Downloading (…)neration_config.json:   0%|          | 0.00/188 [00:00<?, ?B/s]"
      ]
     },
     "metadata": {},
     "output_type": "display_data"
    },
    {
     "data": {
      "application/vnd.jupyter.widget-view+json": {
       "model_id": "89a594c8d82a40308671a669c47fa35a",
       "version_major": 2,
       "version_minor": 0
      },
      "text/plain": [
       "Downloading (…)okenizer_config.json:   0%|          | 0.00/776 [00:00<?, ?B/s]"
      ]
     },
     "metadata": {},
     "output_type": "display_data"
    },
    {
     "data": {
      "application/vnd.jupyter.widget-view+json": {
       "model_id": "4b94d9f29c7042189e4ec0db055e32e5",
       "version_major": 2,
       "version_minor": 0
      },
      "text/plain": [
       "Downloading tokenizer.model:   0%|          | 0.00/500k [00:00<?, ?B/s]"
      ]
     },
     "metadata": {},
     "output_type": "display_data"
    },
    {
     "data": {
      "application/vnd.jupyter.widget-view+json": {
       "model_id": "c2d38b4964f740eb924a111693877940",
       "version_major": 2,
       "version_minor": 0
      },
      "text/plain": [
       "Downloading (…)/main/tokenizer.json:   0%|          | 0.00/1.84M [00:00<?, ?B/s]"
      ]
     },
     "metadata": {},
     "output_type": "display_data"
    },
    {
     "data": {
      "application/vnd.jupyter.widget-view+json": {
       "model_id": "67c38deae20a44e3ad5a513d4be6c5d4",
       "version_major": 2,
       "version_minor": 0
      },
      "text/plain": [
       "Downloading (…)cial_tokens_map.json:   0%|          | 0.00/414 [00:00<?, ?B/s]"
      ]
     },
     "metadata": {},
     "output_type": "display_data"
    },
    {
     "name": "stdout",
     "output_type": "stream",
     "text": [
      "cuda:0\n"
     ]
    }
   ],
   "source": [
    "model = LlamaForCausalLM.from_pretrained(MODEL_ID, torch_dtype=torch.bfloat16) # switch to float16 if not ampere\n",
    "tokenizer = AutoTokenizer.from_pretrained(MODEL_ID)\n",
    "\n",
    "if torch.cuda.is_available():\n",
    "    model.to(\"cuda:0\")\n",
    "print(model.device)"
   ]
  },
  {
   "cell_type": "markdown",
   "id": "a9e256a7-ab79-4563-bc6b-d791562af630",
   "metadata": {},
   "source": [
    "### **Generate Text**\n",
    "\n",
    "- See [here for more details](https://huggingface.co/docs/transformers/llm_tutorial)\n",
    "- See [here for even more details](https://huggingface.co/docs/transformers/generation_strategies)"
   ]
  },
  {
   "cell_type": "code",
   "execution_count": 5,
   "id": "e9ec0848-ff8c-448a-a02a-7dbf908af693",
   "metadata": {},
   "outputs": [
    {
     "name": "stdout",
     "output_type": "stream",
     "text": [
      "Hello my name is Nicole and I am a 26 year old female. I am looking for a roommate that is clean and respectful. I am a quiet person and I like to keep to myself. I do not smoke and I am not a party animal. I do like to go out and have fun but I am not a big drinker. I am a very friendly person and I am easy to get along with. I am not picky with the type of person I would like to\n"
     ]
    }
   ],
   "source": [
    "prompt = \"Hello my name is\"\n",
    "\n",
    "tokenizer.pad_token_id = tokenizer.eos_token_id\n",
    "inputs = tokenizer(prompt, return_tensors=\"pt\").to(\"cuda\")\n",
    "\n",
    "model.eval()\n",
    "with torch.no_grad():\n",
    "    generated_ids = model.generate(\n",
    "        **inputs, \n",
    "        max_new_tokens=100, \n",
    "    )\n",
    "    \n",
    "    print(tokenizer.batch_decode(generated_ids, skip_special_tokens=True)[0])"
   ]
  }
 ],
 "metadata": {
  "kernelspec": {
   "display_name": "Python 3 (ipykernel)",
   "language": "python",
   "name": "python3"
  },
  "language_info": {
   "codemirror_mode": {
    "name": "ipython",
    "version": 3
   },
   "file_extension": ".py",
   "mimetype": "text/x-python",
   "name": "python",
   "nbconvert_exporter": "python",
   "pygments_lexer": "ipython3",
   "version": "3.10.12"
  }
 },
 "nbformat": 4,
 "nbformat_minor": 5
}
