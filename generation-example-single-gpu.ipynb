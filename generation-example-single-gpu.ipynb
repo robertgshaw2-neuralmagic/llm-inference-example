{
 "cells": [
  {
   "cell_type": "markdown",
   "id": "6f2a0a84-7d89-4515-8d3e-d23cbd99dc6b",
   "metadata": {},
   "source": [
    "# **Simple Generation Example**"
   ]
  },
  {
   "cell_type": "markdown",
   "id": "29890856-92cc-45c1-9a4c-0a776dc7c923",
   "metadata": {},
   "source": [
    "### **Login To CLI**\n",
    "- Make sure you have accepted the llama licensing agreement"
   ]
  },
  {
   "cell_type": "code",
   "execution_count": 1,
   "id": "70021f5b-7af7-4222-af77-17d4f84fef97",
   "metadata": {},
   "outputs": [
    {
     "name": "stdout",
     "output_type": "stream",
     "text": [
      "Token will not been saved to git credential helper. Pass `add_to_git_credential=True` if you want to set the git credential as well.\n",
      "Token is valid (permission: read).\n",
      "Your token has been saved to /home/rshaw/.cache/huggingface/token\n",
      "Login successful\n"
     ]
    }
   ],
   "source": [
    "!huggingface-cli login --token TOKEN"
   ]
  },
  {
   "cell_type": "markdown",
   "id": "2e87aaef-29fe-4ee4-bc59-b96911d34b4b",
   "metadata": {},
   "source": [
    "### **Load Model**\n",
    "\n",
    "- Load model from hugging face hub"
   ]
  },
  {
   "cell_type": "code",
   "execution_count": 1,
   "id": "93a082ca-8339-4f86-83b9-31aed220eb2a",
   "metadata": {},
   "outputs": [],
   "source": [
    "from transformers import LlamaForCausalLM, AutoTokenizer\n",
    "import torch\n",
    "\n",
    "MODEL_ID = \"meta-llama/Llama-2-7b-hf\""
   ]
  },
  {
   "cell_type": "code",
   "execution_count": 2,
   "id": "83c37caa-b412-473a-b6a3-980d7f6be41d",
   "metadata": {},
   "outputs": [
    {
     "data": {
      "application/vnd.jupyter.widget-view+json": {
       "model_id": "34e71f3ad59d4d0cb52beb9afb61edd3",
       "version_major": 2,
       "version_minor": 0
      },
      "text/plain": [
       "Loading checkpoint shards:   0%|          | 0/2 [00:00<?, ?it/s]"
      ]
     },
     "metadata": {},
     "output_type": "display_data"
    },
    {
     "name": "stdout",
     "output_type": "stream",
     "text": [
      "cuda:0\n"
     ]
    }
   ],
   "source": [
    "model = LlamaForCausalLM.from_pretrained(MODEL_ID, torch_dtype=torch.bfloat16) # switch to float16 if not ampere\n",
    "tokenizer = AutoTokenizer.from_pretrained(MODEL_ID)\n",
    "\n",
    "if torch.cuda.is_available():\n",
    "    model.to(\"cuda:0\")\n",
    "print(model.device)"
   ]
  },
  {
   "cell_type": "markdown",
   "id": "a9e256a7-ab79-4563-bc6b-d791562af630",
   "metadata": {},
   "source": [
    "### **Generate Text**\n",
    "\n",
    "- See [here for more details](https://huggingface.co/docs/transformers/llm_tutorial)\n",
    "- See [here for even more details](https://huggingface.co/docs/transformers/generation_strategies)"
   ]
  },
  {
   "cell_type": "code",
   "execution_count": 5,
   "id": "e9ec0848-ff8c-448a-a02a-7dbf908af693",
   "metadata": {},
   "outputs": [
    {
     "name": "stdout",
     "output_type": "stream",
     "text": [
      "Hello my name is Nicole and I am a 26 year old female. I am looking for a roommate that is clean and respectful. I am a quiet person and I like to keep to myself. I do not smoke and I am not a party animal. I do like to go out and have fun but I am not a big drinker. I am a very friendly person and I am easy to get along with. I am not picky with the type of person I would like to\n"
     ]
    }
   ],
   "source": [
    "prompt = \"Hello my name is\"\n",
    "\n",
    "tokenizer.pad_token_id = tokenizer.eos_token_id\n",
    "inputs = tokenizer(prompt, return_tensors=\"pt\").to(\"cuda\")\n",
    "\n",
    "model.eval()\n",
    "with torch.no_grad():\n",
    "    generated_ids = model.generate(\n",
    "        **inputs, \n",
    "        max_new_tokens=100, \n",
    "    )\n",
    "    \n",
    "    print(tokenizer.batch_decode(generated_ids, skip_special_tokens=True)[0])"
   ]
  },
  {
   "cell_type": "code",
   "execution_count": 5,
   "id": "6c5cfd0a-1d94-4f87-87a5-097a21fa9a7a",
   "metadata": {},
   "outputs": [
    {
     "name": "stdout",
     "output_type": "stream",
     "text": [
      "<s> An increasing sequence: one, two, three, four, five, six, seven, eight, nine, ten, eleven, twelve, thirteen, fourteen, fifteen, sixteen, seventeen, eighteen, nineteen, twenty, twenty-one, twenty-two, twenty-three, twenty-four, twenty-five, twenty-six, twenty-seven, twenty-eight, twenty-nine, thirty, thirty-one, thirty-two, thirty-three, thirty\n"
     ]
    }
   ],
   "source": [
    "from transformers import TextStreamer\n",
    "\n",
    "inputs = tokenizer([\"An increasing sequence: one,\"], return_tensors=\"pt\").to(\"cuda\")\n",
    "streamer = TextStreamer(tokenizer)\n",
    "\n",
    "# Despite returning the usual output, the streamer will also print the generated text to stdout.\n",
    "_ = model.generate(**inputs, streamer=streamer, max_new_tokens=100)"
   ]
  }
 ],
 "metadata": {
  "kernelspec": {
   "display_name": "Python 3 (ipykernel)",
   "language": "python",
   "name": "python3"
  },
  "language_info": {
   "codemirror_mode": {
    "name": "ipython",
    "version": 3
   },
   "file_extension": ".py",
   "mimetype": "text/x-python",
   "name": "python",
   "nbconvert_exporter": "python",
   "pygments_lexer": "ipython3",
   "version": "3.10.12"
  }
 },
 "nbformat": 4,
 "nbformat_minor": 5
}
