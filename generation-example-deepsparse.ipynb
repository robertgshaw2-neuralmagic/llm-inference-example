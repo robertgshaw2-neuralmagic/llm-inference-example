{
 "cells": [
  {
   "cell_type": "markdown",
   "id": "f8ee5a31-9faa-446b-b8dc-3a746494736c",
   "metadata": {},
   "source": [
    "# DeepSparse Streaming\n",
    "\n",
    "Run the cell below, output will be streamed to the command line."
   ]
  },
  {
   "cell_type": "code",
   "execution_count": null,
   "id": "90685210-4e42-4588-a210-b7f676f83fae",
   "metadata": {},
   "outputs": [],
   "source": [
    "from deepsparse import TextGeneration\n",
    "\n",
    "pipeline = TextGeneration(model=\"zoo:mpt-7b-mpt_chat_mpt_pretrain-pruned50_quantized\", force_max_tokens=True, sequence_length=2048)\n",
    "\n",
    "prompt = \"Summarize Of Mice and Men\"\n",
    "output_iterator = pipeline(prompt=prompt, streaming=True, max_new_tokens=256)\n",
    "\n",
    "print(prompt, end=\"\")\n",
    "for it in output_iterator:\n",
    "    print(it.generations[0].text, end=\"\")"
   ]
  }
 ],
 "metadata": {
  "kernelspec": {
   "display_name": "Python 3 (ipykernel)",
   "language": "python",
   "name": "python3"
  },
  "language_info": {
   "codemirror_mode": {
    "name": "ipython",
    "version": 3
   },
   "file_extension": ".py",
   "mimetype": "text/x-python",
   "name": "python",
   "nbconvert_exporter": "python",
   "pygments_lexer": "ipython3",
   "version": "3.10.12"
  }
 },
 "nbformat": 4,
 "nbformat_minor": 5
}
